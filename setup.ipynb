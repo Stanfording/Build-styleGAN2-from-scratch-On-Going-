{
  "nbformat": 4,
  "nbformat_minor": 0,
  "metadata": {
    "colab": {
      "name": "setup.ipynb",
      "provenance": [],
      "authorship_tag": "ABX9TyMyoFkr/k9YsK1VSgwYxnXR",
      "include_colab_link": true
    },
    "kernelspec": {
      "name": "python3",
      "display_name": "Python 3"
    },
    "language_info": {
      "name": "python"
    },
    "accelerator": "GPU",
    "gpuClass": "standard"
  },
  "cells": [
    {
      "cell_type": "markdown",
      "metadata": {
        "id": "view-in-github",
        "colab_type": "text"
      },
      "source": [
        "<a href=\"https://colab.research.google.com/github/Stanfording/Build-styleGAN2-from-scratch-On-Going-/blob/main/setup.ipynb\" target=\"_parent\"><img src=\"https://colab.research.google.com/assets/colab-badge.svg\" alt=\"Open In Colab\"/></a>"
      ]
    },
    {
      "cell_type": "code",
      "source": [
        "!git clone https://github.com/Pang-Yatian/Point-MAE.git"
      ],
      "metadata": {
        "id": "qBd0pepYwfQ_"
      },
      "execution_count": null,
      "outputs": []
    },
    {
      "cell_type": "code",
      "source": [
        "import torch\n",
        "print(torch.__version__)"
      ],
      "metadata": {
        "id": "QD4B8Ev-wxcd"
      },
      "execution_count": null,
      "outputs": []
    },
    {
      "cell_type": "code",
      "source": [
        "!pip install -q condacolab\n",
        "import condacolab\n",
        "condacolab.install()"
      ],
      "metadata": {
        "id": "qi3xDkR9xiAG"
      },
      "execution_count": null,
      "outputs": []
    },
    {
      "cell_type": "code",
      "source": [
        "!conda --version"
      ],
      "metadata": {
        "id": "_o7xi-bF3l2_"
      },
      "execution_count": null,
      "outputs": []
    },
    {
      "cell_type": "code",
      "source": [
        "!conda install pytorch==1.10.0 torchvision==0.11.0 torchaudio==0.10.0 -c pytorch -c conda-forge"
      ],
      "metadata": {
        "id": "ac3y3VVdxc_H"
      },
      "execution_count": null,
      "outputs": []
    },
    {
      "cell_type": "code",
      "source": [
        "!nvcc --version"
      ],
      "metadata": {
        "id": "OGi2A1zu2HVl"
      },
      "execution_count": null,
      "outputs": []
    },
    {
      "cell_type": "code",
      "source": [
        "!gcc -v"
      ],
      "metadata": {
        "id": "fScshMuWHdin"
      },
      "execution_count": null,
      "outputs": []
    },
    {
      "cell_type": "code",
      "source": [
        "\n",
        "\n",
        "# Chamfer Distance & emd\n",
        "!python /content/Point-MAE/extensions/chamfer_dist/setup.py install\n",
        "!python /content/Point-MAE/extensions/emd/setup.py install --user\n",
        "# PointNet++\n",
        "!pip install \"git+https://github.com/erikwijmans/Pointnet2_PyTorch.git#egg=pointnet2_ops&subdirectory=pointnet2_ops_lib\"\n",
        "# GPU kNN\n",
        "!pip install --upgrade https://github.com/unlimblue/KNN_CUDA/releases/download/0.2/KNN_CUDA-0.2-py3-none-any.whl\n"
      ],
      "metadata": {
        "id": "srK64rD6yV2_"
      },
      "execution_count": null,
      "outputs": []
    },
    {
      "cell_type": "code",
      "source": [
        "!sudo apt-get install python-dev python3-dev"
      ],
      "metadata": {
        "id": "CfMD0aGjLJ7X"
      },
      "execution_count": null,
      "outputs": []
    },
    {
      "cell_type": "code",
      "source": [
        "!sudo apt update"
      ],
      "metadata": {
        "id": "fs1RY0x1NDe-"
      },
      "execution_count": null,
      "outputs": []
    },
    {
      "cell_type": "code",
      "source": [
        "!sudo apt install build-essential"
      ],
      "metadata": {
        "id": "oeAzURKtNRod"
      },
      "execution_count": null,
      "outputs": []
    },
    {
      "cell_type": "code",
      "source": [
        "!sudo apt install libxslt-dev libffi-dev libssl-dev"
      ],
      "metadata": {
        "id": "oIwF9ZltMxDX"
      },
      "execution_count": null,
      "outputs": []
    },
    {
      "cell_type": "code",
      "source": [
        "!conda install -c pytorch3d pytorch3d"
      ],
      "metadata": {
        "colab": {
          "base_uri": "https://localhost:8080/"
        },
        "id": "tsn08YXQKN8W",
        "outputId": "6de587e9-41ef-430e-ef6b-286fc786f427"
      },
      "execution_count": 48,
      "outputs": [
        {
          "output_type": "stream",
          "name": "stdout",
          "text": [
            "Collecting package metadata (current_repodata.json): - \b\b\\ \b\b| \b\b/ \b\b- \b\b\\ \b\b| \b\b/ \b\b- \b\b\\ \b\b| \b\b/ \b\b- \b\b\\ \b\b| \b\b/ \b\b- \b\b\\ \b\b| \b\b/ \b\b- \b\b\\ \b\b| \b\b/ \b\b- \b\b\\ \b\b| \b\b/ \b\b- \b\b\\ \b\bdone\n",
            "Solving environment: / \b\b- \b\b\\ \b\b| \b\b/ \b\b- \b\b\\ \b\b| \b\b/ \b\b- \b\b\\ \b\b| \b\b/ \b\b- \b\b\\ \b\b| \b\b/ \b\b- \b\b\\ \b\b| \b\b/ \b\b- \b\b\\ \b\b| \b\b/ \b\b- \b\b\\ \b\b| \b\b/ \b\b- \b\b\\ \b\b| \b\b/ \b\b- \b\b\\ \b\b| \b\b/ \b\b- \b\b\\ \b\b| \b\b/ \b\b- \b\b\\ \b\b| \b\b/ \b\b- \b\b\\ \b\b| \b\b/ \b\b- \b\b\\ \b\b| \b\b/ \b\b- \b\b\\ \b\b| \b\b/ \b\b- \b\bdone\n",
            "\n",
            "## Package Plan ##\n",
            "\n",
            "  environment location: /usr/local\n",
            "\n",
            "  added / updated specs:\n",
            "    - pytorch3d\n",
            "\n",
            "\n",
            "The following packages will be downloaded:\n",
            "\n",
            "    package                    |            build\n",
            "    ---------------------------|-----------------\n",
            "    dataclasses-0.8            |     pyhc8e2a94_3          10 KB  conda-forge\n",
            "    fvcore-0.1.5.post20220512  |     pyhd8ed1ab_0          54 KB  conda-forge\n",
            "    iopath-0.1.9               |     pyhd8ed1ab_0          27 KB  conda-forge\n",
            "    portalocker-2.5.1          |   py37h89c1867_0          29 KB  conda-forge\n",
            "    pytorch3d-0.7.0            |py37_cu111_pyt1100        50.7 MB  pytorch3d\n",
            "    pyyaml-6.0                 |   py37h540881e_4         178 KB  conda-forge\n",
            "    tabulate-0.8.10            |     pyhd8ed1ab_0          29 KB  conda-forge\n",
            "    termcolor-1.1.0            |     pyhd8ed1ab_3           8 KB  conda-forge\n",
            "    yacs-0.1.8                 |     pyhd8ed1ab_0          17 KB  conda-forge\n",
            "    ------------------------------------------------------------\n",
            "                                           Total:        51.1 MB\n",
            "\n",
            "The following NEW packages will be INSTALLED:\n",
            "\n",
            "  dataclasses        conda-forge/noarch::dataclasses-0.8-pyhc8e2a94_3\n",
            "  fvcore             conda-forge/noarch::fvcore-0.1.5.post20220512-pyhd8ed1ab_0\n",
            "  iopath             conda-forge/noarch::iopath-0.1.9-pyhd8ed1ab_0\n",
            "  portalocker        conda-forge/linux-64::portalocker-2.5.1-py37h89c1867_0\n",
            "  pytorch3d          pytorch3d/linux-64::pytorch3d-0.7.0-py37_cu111_pyt1100\n",
            "  pyyaml             conda-forge/linux-64::pyyaml-6.0-py37h540881e_4\n",
            "  tabulate           conda-forge/noarch::tabulate-0.8.10-pyhd8ed1ab_0\n",
            "  termcolor          conda-forge/noarch::termcolor-1.1.0-pyhd8ed1ab_3\n",
            "  yacs               conda-forge/noarch::yacs-0.1.8-pyhd8ed1ab_0\n",
            "\n",
            "\n",
            "\n",
            "Downloading and Extracting Packages\n",
            "dataclasses-0.8      | 10 KB     | : 100% 1.0/1 [00:00<00:00, 12.69it/s]\n",
            "fvcore-0.1.5.post202 | 54 KB     | : 100% 1.0/1 [00:00<00:00, 21.86it/s]\n",
            "pytorch3d-0.7.0      | 50.7 MB   | : 100% 1.0/1 [00:08<00:00,  8.99s/it]\n",
            "termcolor-1.1.0      | 8 KB      | : 100% 1.0/1 [00:00<00:00, 24.42it/s]\n",
            "yacs-0.1.8           | 17 KB     | : 100% 1.0/1 [00:00<00:00, 22.48it/s]\n",
            "portalocker-2.5.1    | 29 KB     | : 100% 1.0/1 [00:00<00:00, 22.14it/s]\n",
            "iopath-0.1.9         | 27 KB     | : 100% 1.0/1 [00:00<00:00, 14.83it/s]\n",
            "tabulate-0.8.10      | 29 KB     | : 100% 1.0/1 [00:00<00:00, 13.57it/s]\n",
            "pyyaml-6.0           | 178 KB    | : 100% 1.0/1 [00:00<00:00, 13.80it/s]\n",
            "Preparing transaction: | \b\bdone\n",
            "Verifying transaction: - \b\b\\ \b\b| \b\b/ \b\b- \b\b\\ \b\b| \b\b/ \b\b- \b\b\\ \b\b| \b\b/ \b\b- \b\b\\ \b\b| \b\b/ \b\bdone\n",
            "Executing transaction: \\ \b\b| \b\b/ \b\b- \b\b\\ \b\b| \b\bdone\n",
            "Retrieving notices: ...working... done\n"
          ]
        }
      ]
    },
    {
      "cell_type": "code",
      "source": [
        "!ssh-keygen -t rsa -b 4096 # https://colab.research.google.com/drive/1A5ocDslM9ZTo1pbt6klaV4Uo0LVjx3kF?usp=sharing#scrollTo=6ryFWs31Zk-4"
      ],
      "metadata": {
        "id": "LGaFZKqe-ivP"
      },
      "execution_count": null,
      "outputs": []
    },
    {
      "cell_type": "code",
      "source": [
        "!ssh-keyscan -t rsa github.com >> ~/.ssh/known_hosts"
      ],
      "metadata": {
        "id": "Qm_vtTr8_EXv"
      },
      "execution_count": null,
      "outputs": []
    },
    {
      "cell_type": "code",
      "source": [
        "!cat /root/.ssh/id_rsa.pub"
      ],
      "metadata": {
        "id": "9cCFb4hp_bOV"
      },
      "execution_count": null,
      "outputs": []
    },
    {
      "cell_type": "code",
      "source": [
        "!ssh -T git@github.com"
      ],
      "metadata": {
        "id": "uOJ4Ct5EBYav"
      },
      "execution_count": null,
      "outputs": []
    },
    {
      "cell_type": "code",
      "source": [
        "!git config --global user.email \"stanfording@gmail.com\""
      ],
      "metadata": {
        "id": "GS9gQmBrBoaG"
      },
      "execution_count": 38,
      "outputs": []
    },
    {
      "cell_type": "code",
      "source": [
        "!git config --global user.name \"stanfording\""
      ],
      "metadata": {
        "id": "Zu82X4iABsvO"
      },
      "execution_count": 39,
      "outputs": []
    },
    {
      "cell_type": "code",
      "source": [
        "!git clone git@github.com:Stanfording/PointCloud_frame_interpolation.git"
      ],
      "metadata": {
        "id": "nbsqQ2Lf7Tou"
      },
      "execution_count": null,
      "outputs": []
    },
    {
      "cell_type": "code",
      "source": [
        "!git clone https://github.com/daerduoCarey/PyTorchEMD.git"
      ],
      "metadata": {
        "id": "MysSBwYeDdBn"
      },
      "execution_count": null,
      "outputs": []
    },
    {
      "cell_type": "code",
      "source": [
        "\"\"\"\n",
        "!export PATH=/usr/local/cuda-11.1/bin:$PATH\n",
        "!export LD_LIBRARY_PATH=/usr/local/cuda-11.1/lib64:$LD_LIBRARY_PATH\n",
        "\"\"\""
      ],
      "metadata": {
        "id": "pKT2iqKKELrm"
      },
      "execution_count": 31,
      "outputs": []
    },
    {
      "cell_type": "code",
      "source": [
        "!nvidia-smi"
      ],
      "metadata": {
        "id": "lcuDSedqF7yP"
      },
      "execution_count": null,
      "outputs": []
    },
    {
      "cell_type": "code",
      "source": [
        "!conda install mayavi"
      ],
      "metadata": {
        "id": "_7k4aFbCDwU4"
      },
      "execution_count": null,
      "outputs": []
    },
    {
      "cell_type": "code",
      "source": [
        "!python /content/PointCloud_frame_interpolation/PointINet/demo.py"
      ],
      "metadata": {
        "id": "-mRrAtQ3R4vm",
        "outputId": "245755c7-12d7-43b7-815e-48b839260086",
        "colab": {
          "base_uri": "https://localhost:8080/"
        }
      },
      "execution_count": 50,
      "outputs": [
        {
          "output_type": "stream",
          "name": "stdout",
          "text": [
            "qt.qpa.xcb: could not connect to display \n",
            "qt.qpa.plugin: Could not load the Qt platform plugin \"xcb\" in \"\" even though it was found.\n",
            "This application failed to start because no Qt platform plugin could be initialized. Reinstalling the application may fix this problem.\n",
            "\n",
            "Available platform plugins are: eglfs, minimal, minimalegl, offscreen, vnc, webgl, xcb.\n",
            "\n"
          ]
        }
      ]
    }
  ]
}